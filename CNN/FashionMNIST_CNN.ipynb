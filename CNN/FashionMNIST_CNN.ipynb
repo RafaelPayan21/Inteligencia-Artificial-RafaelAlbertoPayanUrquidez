{
 "cells": [
  {
   "cell_type": "markdown",
   "id": "3c2033ca",
   "metadata": {},
   "source": [
    "Red Neuronal Convolucional (CNN)\n",
    "Utilizando dataset Fashion MNIST para el entrenamiento y las predicciones.\n",
    "Autor: Rafael Alberto Payan Urquidez"
   ]
  },
  {
   "cell_type": "markdown",
   "id": "716b8967",
   "metadata": {},
   "source": [
    "Comenzamos importando las librerías necesarias."
   ]
  },
  {
   "cell_type": "code",
   "execution_count": null,
   "id": "83239011",
   "metadata": {},
   "outputs": [],
   "source": [
    "import tensorflow as tf\n",
    "from tensorflow import keras\n",
    "import numpy as np\n",
    "import matplotlib.pyplot as plt\n",
    "\n",
    "# Para tener en cuenta la versión de TensorFlow, debido a que la API de Keras ha cambiado\n",
    "# en las versiones más recientes de TensorFlow y puede afectar al funcionamiento.\n",
    "print(tf.__version__)"
   ]
  },
  {
   "cell_type": "markdown",
   "id": "f8645961",
   "metadata": {},
   "source": [
    "Cargamos el dataset Fashion MNIST"
   ]
  },
  {
   "cell_type": "code",
   "execution_count": null,
   "id": "f1ee46a8",
   "metadata": {},
   "outputs": [],
   "source": [
    "fashion_mnist = keras.datasets.fashion_mnist\n",
    "(train_images, train_labels), (test_images, test_labels) = fashion_mnist.load_data()\n",
    "\n",
    "# Nombres de las clases para visualización\n",
    "class_names = ['T-shirt/top', 'Trouser', 'Pullover', 'Dress', 'Coat',\n",
    "               'Sandal', 'Shirt', 'Sneaker', 'Bag', 'Ankle boot']"
   ]
  },
  {
   "cell_type": "markdown",
   "id": "13e2f086",
   "metadata": {},
   "source": [
    "Preprocesamiento de los datos"
   ]
  },
  {
   "cell_type": "code",
   "execution_count": null,
   "id": "331bb48c",
   "metadata": {},
   "outputs": [],
   "source": [
    "# Normalizar los valores de los píxeles al rango [0, 1]\n",
    "train_images = train_images / 255.0\n",
    "test_images = test_images / 255.0\n",
    "\n",
    "# Reshape de las imágenes para que incluyan la dimensión del canal (1 para escala de grises)\n",
    "# (número_de_ejemplos, alto, ancho, canales)\n",
    "train_images_reshaped = train_images.reshape(train_images.shape[0], 28, 28, 1)\n",
    "test_images_reshaped = test_images.reshape(test_images.shape[0], 28, 28, 1)\n",
    "\n",
    "print(f\"Forma de las imágenes de entrenamiento para CNN: {train_images_reshaped.shape}\")\n",
    "print(f\"Forma de las imágenes de prueba para CNN: {test_images_reshaped.shape}\")"
   ]
  },
  {
   "cell_type": "markdown",
   "id": "d5c65ce2",
   "metadata": {},
   "source": [
    "Construir el modelo CNN"
   ]
  },
  {
   "cell_type": "code",
   "execution_count": null,
   "id": "c324d4b1",
   "metadata": {},
   "outputs": [],
   "source": [
    "model_cnn = keras.Sequential([\n",
    "    keras.layers.Conv2D(32, (3, 3), activation='relu', input_shape=(28, 28, 1)), # Primera capa convolucional\n",
    "    keras.layers.MaxPooling2D((2, 2)), # Capa de pooling\n",
    "    keras.layers.Conv2D(64, (3, 3), activation='relu'), # Segunda capa convolucional\n",
    "    keras.layers.MaxPooling2D((2, 2)), # Segunda capa de pooling\n",
    "    keras.layers.Flatten(), # Aplanar la salida de las capas convolucionales antes de las capas densas\n",
    "    keras.layers.Dense(128, activation='relu'), # Capa densa (comúnmente llamada \"fully connected\")\n",
    "    keras.layers.Dropout(0.2), # Dropout para regularización\n",
    "    keras.layers.Dense(10, activation='softmax') # Capa de salida con 10 neuronas y activación softmax\n",
    "])"
   ]
  },
  {
   "cell_type": "markdown",
   "id": "8aa11380",
   "metadata": {},
   "source": [
    "Compilar el modelo"
   ]
  },
  {
   "cell_type": "code",
   "execution_count": null,
   "id": "44bfd723",
   "metadata": {},
   "outputs": [],
   "source": [
    "model_cnn.compile(optimizer='adam',\n",
    "                  loss='sparse_categorical_crossentropy',\n",
    "                  metrics=['accuracy'])\n",
    "\n",
    "model_cnn.summary()"
   ]
  },
  {
   "cell_type": "markdown",
   "id": "1b1cf844",
   "metadata": {},
   "source": [
    "Entrenar el modelo"
   ]
  },
  {
   "cell_type": "code",
   "execution_count": null,
   "id": "0bbfdaea",
   "metadata": {},
   "outputs": [],
   "source": [
    "history_cnn = model_cnn.fit(train_images_reshaped, train_labels, epochs=10, validation_split=0.2)"
   ]
  },
  {
   "cell_type": "markdown",
   "id": "37869dc1",
   "metadata": {},
   "source": [
    "Evaluar el modelo"
   ]
  },
  {
   "cell_type": "code",
   "execution_count": null,
   "id": "9d2da92d",
   "metadata": {},
   "outputs": [],
   "source": [
    "test_loss_cnn, test_acc_cnn = model_cnn.evaluate(test_images_reshaped, test_labels, verbose=2)\n",
    "print(f'\\nPrecisión en el conjunto de prueba (CNN): {test_acc_cnn:.4f}')"
   ]
  },
  {
   "cell_type": "markdown",
   "id": "0099a7a0",
   "metadata": {},
   "source": [
    "Visualizar el historial del entrenamiento"
   ]
  },
  {
   "cell_type": "code",
   "execution_count": null,
   "id": "0f2bdca8",
   "metadata": {},
   "outputs": [],
   "source": [
    "plt.figure(figsize=(12, 5))\n",
    "\n",
    "plt.subplot(1, 2, 1)\n",
    "plt.plot(history_cnn.history['accuracy'], label='Accuracy de Entrenamiento')\n",
    "plt.plot(history_cnn.history['val_accuracy'], label='Accuracy de Validación')\n",
    "plt.title('Precisión del Modelo CNN')\n",
    "plt.xlabel('Época')\n",
    "plt.ylabel('Precisión')\n",
    "plt.legend()\n",
    "plt.grid(True)\n",
    "\n",
    "plt.subplot(1, 2, 2)\n",
    "plt.plot(history_cnn.history['loss'], label='Pérdida de Entrenamiento')\n",
    "plt.plot(history_cnn.history['val_loss'], label='Pérdida de Validación')\n",
    "plt.title('Pérdida del Modelo CNN')\n",
    "plt.xlabel('Época')\n",
    "plt.ylabel('Pérdida')\n",
    "plt.legend()\n",
    "plt.grid(True)\n",
    "\n",
    "plt.tight_layout()\n",
    "plt.show()"
   ]
  },
  {
   "cell_type": "markdown",
   "id": "0581067e",
   "metadata": {},
   "source": [
    "Realizar predicciones y visualizar algunas"
   ]
  },
  {
   "cell_type": "code",
   "execution_count": null,
   "id": "9721dfb2",
   "metadata": {},
   "outputs": [],
   "source": [
    "predictions_cnn = model_cnn.predict(test_images_reshaped)\n",
    "\n",
    "def plot_image_prediction(i, predictions_array, true_label, img):\n",
    "    true_label, img = true_label[i], img[i]\n",
    "    plt.grid(False)\n",
    "    plt.xticks([])\n",
    "    plt.yticks([])\n",
    "\n",
    "    plt.imshow(img.reshape(28, 28), cmap=plt.cm.binary) # Asegurarse de que la imagen sea 28x28\n",
    "\n",
    "    predicted_label = np.argmax(predictions_array)\n",
    "    if predicted_label == true_label:\n",
    "        color = 'blue'\n",
    "    else:\n",
    "        color = 'red'\n",
    "\n",
    "    plt.xlabel(f\"{class_names[predicted_label]} ({100*np.max(predictions_array):.0f}%) (Real: {class_names[true_label]})\",\n",
    "               color=color)\n",
    "\n",
    "def plot_value_array(i, predictions_array, true_label):\n",
    "    true_label = true_label[i]\n",
    "    plt.grid(False)\n",
    "    plt.xticks(range(10))\n",
    "    plt.yticks([])\n",
    "    thisplot = plt.bar(range(10), predictions_array, color=\"#777777\")\n",
    "    plt.ylim([0, 1])\n",
    "    predicted_label = np.argmax(predictions_array)\n",
    "\n",
    "    thisplot[predicted_label].set_color('red')\n",
    "    thisplot[true_label].set_color('blue')\n",
    "\n",
    "num_rows = 5\n",
    "num_cols = 3\n",
    "num_images = num_rows * num_cols\n",
    "plt.figure(figsize=(2 * 2 * num_cols, 2 * num_rows))\n",
    "for i in range(num_images):\n",
    "    plt.subplot(num_rows, 2 * num_cols, 2 * i + 1)\n",
    "    plot_image_prediction(i, predictions_cnn[i], test_labels, test_images)\n",
    "    plt.subplot(num_rows, 2 * num_cols, 2 * i + 2)\n",
    "    plot_value_array(i, predictions_cnn[i], test_labels)\n",
    "plt.tight_layout()\n",
    "plt.show()"
   ]
  }
 ],
 "metadata": {
  "kernelspec": {
   "display_name": "Python 3",
   "language": "python",
   "name": "python3"
  },
  "language_info": {
   "codemirror_mode": {
    "name": "ipython",
    "version": 3
   },
   "file_extension": ".py",
   "mimetype": "text/x-python",
   "name": "python",
   "nbconvert_exporter": "python",
   "pygments_lexer": "ipython3",
   "version": "3.10.11"
  }
 },
 "nbformat": 4,
 "nbformat_minor": 5
}
