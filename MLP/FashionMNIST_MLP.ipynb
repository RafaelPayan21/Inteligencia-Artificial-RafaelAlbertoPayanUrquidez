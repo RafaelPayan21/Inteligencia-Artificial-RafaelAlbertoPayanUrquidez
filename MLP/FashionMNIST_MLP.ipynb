{
 "cells": [
  {
   "cell_type": "markdown",
   "id": "b73f0e39",
   "metadata": {},
   "source": [
    "Red Neuronal Perceptrón Multicapa (MLP)\n",
    "Utilizando dataset Fashion MNIST para el entrenamiento y las predicciones.\n",
    "Autor: Rafael Alberto Payan Urquidez"
   ]
  },
  {
   "cell_type": "code",
   "execution_count": null,
   "id": "2fa1f4c1",
   "metadata": {},
   "outputs": [],
   "source": [
    "import tensorflow as tf\n",
    "from tensorflow import keras\n",
    "import numpy as np\n",
    "import matplotlib.pyplot as plt\n",
    "\n",
    "# Para tener en cuenta la versión de TensorFlow, debido a que la API de Keras ha cambiado\n",
    "# en las versiones más recientes de TensorFlow y puede afectar al funcionamiento.\n",
    "print(tf.__version__)"
   ]
  },
  {
   "cell_type": "markdown",
   "id": "dcb63268",
   "metadata": {},
   "source": [
    "Cargamos el dataset Fashion MNIST y los nombres de las clases para la visualización"
   ]
  },
  {
   "cell_type": "code",
   "execution_count": null,
   "id": "a3fd09fc",
   "metadata": {},
   "outputs": [],
   "source": [
    "fashion_mnist = keras.datasets.fashion_mnist\n",
    "(train_images, train_labels), (test_images, test_labels) = fashion_mnist.load_data()\n",
    "\n",
    "\n",
    "class_names = ['T-shirt/top', 'Trouser', 'Pullover', 'Dress', 'Coat',\n",
    "               'Sandal', 'Shirt', 'Sneaker', 'Bag', 'Ankle boot']"
   ]
  },
  {
   "cell_type": "markdown",
   "id": "f03de9d2",
   "metadata": {},
   "source": [
    "Preprocesamiento de los datos"
   ]
  },
  {
   "cell_type": "code",
   "execution_count": null,
   "id": "06be438e",
   "metadata": {
    "vscode": {
     "languageId": "ruby"
    }
   },
   "outputs": [],
   "source": [
    "# Normalizar los valores de los píxeles al rango [0, 1]\n",
    "train_images = train_images / 255.0\n",
    "test_images = test_images / 255.0\n",
    "\n",
    "# Aplanar las imágenes para la MLP\n",
    "train_images_flat = train_images.reshape(train_images.shape[0], 28 * 28)\n",
    "test_images_flat = test_images.reshape(test_images.shape[0], 28 * 28)\n",
    "\n",
    "print(f\"Forma de las imágenes de entrenamiento aplanadas: {train_images_flat.shape}\")\n",
    "print(f\"Forma de las imágenes de prueba aplanadas: {test_images_flat.shape}\")"
   ]
  },
  {
   "cell_type": "markdown",
   "id": "7ab0e9f9",
   "metadata": {},
   "source": [
    "Construcción del modelo MLP"
   ]
  },
  {
   "cell_type": "code",
   "execution_count": null,
   "id": "d7c01ece",
   "metadata": {
    "vscode": {
     "languageId": "ruby"
    }
   },
   "outputs": [],
   "source": [
    "model_mlp = keras.Sequential([\n",
    "    keras.layers.Input(shape=(28 * 28,)),  # Capa de entrada con 784 neuronas\n",
    "    keras.layers.Dense(128, activation='relu'), # Primera capa oculta densa con activación ReLU\n",
    "    keras.layers.Dropout(0.2), # Dropout para regularización\n",
    "    keras.layers.Dense(64, activation='relu'),  # Segunda capa oculta densa\n",
    "    keras.layers.Dense(10, activation='softmax') # Capa de salida con 10 neuronas (una por clase) y activación softmax\n",
    "])"
   ]
  },
  {
   "cell_type": "markdown",
   "id": "5dc58c1f",
   "metadata": {},
   "source": [
    "Compilación del modelo"
   ]
  },
  {
   "cell_type": "code",
   "execution_count": null,
   "id": "19db1ba3",
   "metadata": {
    "vscode": {
     "languageId": "ruby"
    }
   },
   "outputs": [],
   "source": [
    "model_mlp.compile(optimizer='adam',\n",
    "                  loss='sparse_categorical_crossentropy', # Usar para etiquetas enteras\n",
    "                  metrics=['accuracy'])\n",
    "\n",
    "model_mlp.summary()"
   ]
  },
  {
   "cell_type": "markdown",
   "id": "67a3320a",
   "metadata": {},
   "source": [
    "Entrenamiento del modelo"
   ]
  },
  {
   "cell_type": "code",
   "execution_count": null,
   "id": "e0dd396d",
   "metadata": {
    "vscode": {
     "languageId": "ruby"
    }
   },
   "outputs": [],
   "source": [
    "history_mlp = model_mlp.fit(train_images_flat, train_labels, epochs=10, validation_split=0.2)"
   ]
  },
  {
   "cell_type": "markdown",
   "id": "11b5869b",
   "metadata": {},
   "source": [
    "Evaluación del modelo"
   ]
  },
  {
   "cell_type": "code",
   "execution_count": null,
   "id": "b0582d3d",
   "metadata": {
    "vscode": {
     "languageId": "ruby"
    }
   },
   "outputs": [],
   "source": [
    "test_loss_mlp, test_acc_mlp = model_mlp.evaluate(test_images_flat, test_labels, verbose=2)\n",
    "print(f'\\nPrecisión en el conjunto de prueba (MLP): {test_acc_mlp:.4f}')"
   ]
  },
  {
   "cell_type": "markdown",
   "id": "3586cd60",
   "metadata": {},
   "source": [
    "Visualización del historial de entrenamiento"
   ]
  },
  {
   "cell_type": "code",
   "execution_count": null,
   "id": "e7ba76ce",
   "metadata": {
    "vscode": {
     "languageId": "ruby"
    }
   },
   "outputs": [],
   "source": [
    "plt.figure(figsize=(12, 5))\n",
    "\n",
    "plt.subplot(1, 2, 1)\n",
    "plt.plot(history_mlp.history['accuracy'], label='Accuracy de Entrenamiento')\n",
    "plt.plot(history_mlp.history['val_accuracy'], label='Accuracy de Validación')\n",
    "plt.title('Precisión del Modelo MLP')\n",
    "plt.xlabel('Época')\n",
    "plt.ylabel('Precisión')\n",
    "plt.legend()\n",
    "plt.grid(True)\n",
    "\n",
    "plt.subplot(1, 2, 2)\n",
    "plt.plot(history_mlp.history['loss'], label='Pérdida de Entrenamiento')\n",
    "plt.plot(history_mlp.history['val_loss'], label='Pérdida de Validación')\n",
    "plt.title('Pérdida del Modelo MLP')\n",
    "plt.xlabel('Época')\n",
    "plt.ylabel('Pérdida')\n",
    "plt.legend()\n",
    "plt.grid(True)\n",
    "\n",
    "plt.tight_layout()\n",
    "plt.show()\n"
   ]
  },
  {
   "cell_type": "markdown",
   "id": "fae78723",
   "metadata": {},
   "source": [
    "Realizar predicciones y visualizar algunas"
   ]
  },
  {
   "cell_type": "code",
   "execution_count": null,
   "id": "2c97a3b7",
   "metadata": {
    "vscode": {
     "languageId": "ruby"
    }
   },
   "outputs": [],
   "source": [
    "predictions_mlp = model_mlp.predict(test_images_flat)\n",
    "\n",
    "def plot_image_prediction(i, predictions_array, true_label, img):\n",
    "    true_label, img = true_label[i], img[i]\n",
    "    plt.grid(False)\n",
    "    plt.xticks([])\n",
    "    plt.yticks([])\n",
    "\n",
    "    plt.imshow(img.reshape(28, 28), cmap=plt.cm.binary) # Asegurarse de que la imagen sea 28x28\n",
    "\n",
    "    predicted_label = np.argmax(predictions_array)\n",
    "    if predicted_label == true_label:\n",
    "        color = 'blue'\n",
    "    else:\n",
    "        color = 'red'\n",
    "\n",
    "    plt.xlabel(f\"{class_names[predicted_label]} ({100*np.max(predictions_array):.0f}%) (Real: {class_names[true_label]})\",\n",
    "               color=color)\n",
    "\n",
    "def plot_value_array(i, predictions_array, true_label):\n",
    "    true_label = true_label[i]\n",
    "    plt.grid(False)\n",
    "    plt.xticks(range(10))\n",
    "    plt.yticks([])\n",
    "    thisplot = plt.bar(range(10), predictions_array, color=\"#777777\")\n",
    "    plt.ylim([0, 1])\n",
    "    predicted_label = np.argmax(predictions_array)\n",
    "\n",
    "    thisplot[predicted_label].set_color('red')\n",
    "    thisplot[true_label].set_color('blue')\n",
    "\n",
    "num_rows = 5\n",
    "num_cols = 3\n",
    "num_images = num_rows * num_cols\n",
    "plt.figure(figsize=(2 * 2 * num_cols, 2 * num_rows))\n",
    "for i in range(num_images):\n",
    "    plt.subplot(num_rows, 2 * num_cols, 2 * i + 1)\n",
    "    plot_image_prediction(i, predictions_mlp[i], test_labels, test_images)\n",
    "    plt.subplot(num_rows, 2 * num_cols, 2 * i + 2)\n",
    "    plot_value_array(i, predictions_mlp[i], test_labels)\n",
    "plt.tight_layout()\n",
    "plt.show()"
   ]
  }
 ],
 "metadata": {
  "kernelspec": {
   "display_name": "Python 3",
   "language": "python",
   "name": "python3"
  },
  "language_info": {
   "codemirror_mode": {
    "name": "ipython",
    "version": 3
   },
   "file_extension": ".py",
   "mimetype": "text/x-python",
   "name": "python",
   "nbconvert_exporter": "python",
   "pygments_lexer": "ipython3",
   "version": "3.10.11"
  }
 },
 "nbformat": 4,
 "nbformat_minor": 5
}
