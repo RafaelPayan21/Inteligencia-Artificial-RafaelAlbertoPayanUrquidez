{
 "cells": [
  {
   "cell_type": "markdown",
   "id": "eb703d89",
   "metadata": {},
   "source": [
    "Ejercicio de Regresión Linea. \n",
    "\n",
    "Uilizaremos regresión lineal múltiple para modelar la relación entre las características del vehículo y su eficiencia.\n",
    "\n",
    "\n"
   ]
  },
  {
   "cell_type": "markdown",
   "id": "5bdcfe4f",
   "metadata": {},
   "source": [
    "Comenzamos importando las librerías necesarias."
   ]
  },
  {
   "cell_type": "code",
   "execution_count": null,
   "id": "122e56a3",
   "metadata": {},
   "outputs": [],
   "source": [
    "import numpy as np\n",
    "import pandas as pd\n",
    "import matplotlib.pyplot as plt\n",
    "import seaborn as sns\n",
    "from sklearn.model_selection import train_test_split\n",
    "from sklearn.linear_model import LinearRegression\n",
    "from sklearn.metrics import mean_absolute_error, mean_squared_error, r2_score\n",
    "from sklearn.preprocessing import StandardScaler"
   ]
  },
  {
   "cell_type": "markdown",
   "id": "9cb7db03",
   "metadata": {},
   "source": [
    "Generamos datos sintéticos para reproducibilidad."
   ]
  },
  {
   "cell_type": "code",
   "execution_count": null,
   "id": "5bea95bf",
   "metadata": {},
   "outputs": [],
   "source": [
    "np.random.seed(42)\n",
    "n_samples = 500"
   ]
  },
  {
   "cell_type": "markdown",
   "id": "3372f297",
   "metadata": {},
   "source": [
    "Añadimos las características (Features)."
   ]
  },
  {
   "cell_type": "code",
   "execution_count": null,
   "id": "3d2c2dbd",
   "metadata": {},
   "outputs": [],
   "source": [
    "battery_capacity = np.random.uniform(40, 100, n_samples)  # kWh\n",
    "vehicle_weight = np.random.uniform(1000, 2500, n_samples)  # kg\n",
    "driving_conditions = np.random.choice([\"city\", \"hwy\"], n_samples)  # 0=ciudad, 1=autopista\n",
    "temperature = np.random.uniform(-10, 35, n_samples)  # °C"
   ]
  },
  {
   "cell_type": "markdown",
   "id": "929b17d2",
   "metadata": {},
   "source": [
    "Target (eficiencia en km/kWh) con una relación lineal + ruido"
   ]
  },
  {
   "cell_type": "code",
   "execution_count": null,
   "id": "3cb90d4b",
   "metadata": {},
   "outputs": [],
   "source": [
    "efficiency = (\n",
    "    0.8 * battery_capacity \n",
    "    - 0.002 * vehicle_weight \n",
    "    + 0.5 * (driving_conditions == \"hwy\") \n",
    "    - 0.01 * temperature \n",
    "    + np.random.normal(0, 2, n_samples)\n",
    ")\n"
   ]
  },
  {
   "cell_type": "markdown",
   "id": "8fb571f5",
   "metadata": {},
   "source": [
    "Creamos el DataFrame en el que trabajaremos."
   ]
  },
  {
   "cell_type": "code",
   "execution_count": null,
   "id": "9b3da8a0",
   "metadata": {},
   "outputs": [],
   "source": [
    "df = pd.DataFrame({\n",
    "    \"Battery Capacity (kWh)\": battery_capacity,\n",
    "    \"Vehicle Weight (kg)\": vehicle_weight,\n",
    "    \"Driving Conditions (city/hwy)\": driving_conditions,\n",
    "    \"Temperature (C)\": temperature,\n",
    "    \"Efficiency (km/kWh)\": efficiency\n",
    "})"
   ]
  },
  {
   "cell_type": "markdown",
   "id": "cbe663a6",
   "metadata": {},
   "source": [
    "Realizamos el procesamiento y lo imprimimos."
   ]
  },
  {
   "cell_type": "code",
   "execution_count": null,
   "id": "31c6b096",
   "metadata": {},
   "outputs": [],
   "source": [
    "# Codificar 'Driving Conditions' (city=0, hwy=1)\n",
    "df[\"Driving Conditions (city/hwy)\"] = df[\"Driving Conditions (city/hwy)\"].map({\"city\": 0, \"hwy\": 1})\n",
    "\n",
    "# Separar features y target\n",
    "X = df.drop(\"Efficiency (km/kWh)\", axis=1)\n",
    "y = df[\"Efficiency (km/kWh)\"]\n",
    "\n",
    "# Dividir en entrenamiento (80%) y prueba (20%)\n",
    "X_train, X_test, y_train, y_test = train_test_split(\n",
    "    X, y, test_size=0.2, random_state=42\n",
    ")\n",
    "\n",
    "# Escalar features\n",
    "scaler = StandardScaler()\n",
    "X_train_scaled = scaler.fit_transform(X_train)\n",
    "X_test_scaled = scaler.transform(X_test)\n",
    "\n",
    "# --- Entrenar modelo ---\n",
    "model = LinearRegression()\n",
    "model.fit(X_train_scaled, y_train)\n",
    "\n",
    "# --- Evaluar el modelo ---\n",
    "y_pred = model.predict(X_test_scaled)\n",
    "\n",
    "# Métricas\n",
    "mae = mean_absolute_error(y_test, y_pred)\n",
    "mse = mean_squared_error(y_test, y_pred)\n",
    "r2 = r2_score(y_test, y_pred)\n",
    "\n",
    "print(\"Resultados del Modelo:\")\n",
    "print(f\"- MAE (Error Absoluto Medio): {mae:.2f}\")\n",
    "print(f\"- MSE (Error Cuadrático Medio): {mse:.2f}\")\n",
    "print(f\"- R² (Coeficiente de Determinación): {r2:.2f}\")"
   ]
  },
  {
   "cell_type": "markdown",
   "id": "1fd1a829",
   "metadata": {},
   "source": [
    "Visualización."
   ]
  },
  {
   "cell_type": "code",
   "execution_count": null,
   "id": "3a365fe1",
   "metadata": {},
   "outputs": [],
   "source": [
    "plt.figure(figsize=(12, 4))\n",
    "\n",
    "# Gráfico 1: Predicciones vs. Reales\n",
    "plt.subplot(1, 2, 1)\n",
    "sns.scatterplot(x=y_test, y=y_pred, alpha=0.6)\n",
    "plt.plot([y.min(), y.max()], [y.min(), y.max()], 'r--')\n",
    "plt.xlabel(\"Valores Reales\")\n",
    "plt.ylabel(\"Predicciones\")\n",
    "plt.title(\"Predicciones vs. Valores Reales\")\n",
    "\n",
    "# Gráfico 2: Residuales\n",
    "plt.subplot(1, 2, 2)\n",
    "residuals = y_test - y_pred\n",
    "sns.histplot(residuals, kde=True)\n",
    "plt.xlabel(\"Residuales\")\n",
    "plt.title(\"Distribución de Residuales\")\n",
    "\n",
    "plt.tight_layout()\n",
    "plt.show()"
   ]
  },
  {
   "cell_type": "markdown",
   "id": "3340b921",
   "metadata": {},
   "source": [
    "Coeficientes del Modelo."
   ]
  },
  {
   "cell_type": "code",
   "execution_count": null,
   "id": "06ae5f05",
   "metadata": {},
   "outputs": [],
   "source": [
    "print(\"\\nCoeficientes del Modelo:\")\n",
    "for feature, coef in zip(X.columns, model.coef_):\n",
    "    print(f\"- {feature}: {coef:.2f}\")\n",
    "print(f\"- Intercepto: {model.intercept_:.2f}\")"
   ]
  },
  {
   "cell_type": "markdown",
   "id": "90bf37ba",
   "metadata": {},
   "source": [
    "Ejemplo de Predicción."
   ]
  },
  {
   "cell_type": "code",
   "execution_count": null,
   "id": "613e1c2a",
   "metadata": {},
   "outputs": [],
   "source": [
    "new_data = pd.DataFrame({\n",
    "    \"Battery Capacity (kWh)\": [75],\n",
    "    \"Vehicle Weight (kg)\": [1800],\n",
    "    \"Driving Conditions (city/hwy)\": [\"hwy\"],\n",
    "    \"Temperature (C)\": [25]\n",
    "})"
   ]
  },
  {
   "cell_type": "markdown",
   "id": "843a0ffd",
   "metadata": {},
   "source": [
    "Preprocesamos los nuevos datos y predecimos."
   ]
  },
  {
   "cell_type": "code",
   "execution_count": null,
   "id": "4099b8a2",
   "metadata": {},
   "outputs": [],
   "source": [
    "# Preprocesar nuevos datos\n",
    "new_data[\"Driving Conditions (city/hwy)\"] = new_data[\"Driving Conditions (city/hwy)\"].map({\"city\": 0, \"hwy\": 1})\n",
    "new_data_scaled = scaler.transform(new_data)\n",
    "\n",
    "# Predecir\n",
    "prediction = model.predict(new_data_scaled)\n",
    "print(f\"\\nPredicción de eficiencia para nuevos datos: {prediction[0]:.2f} km/kWh\")"
   ]
  }
 ],
 "metadata": {
  "kernelspec": {
   "display_name": "Python 3",
   "language": "python",
   "name": "python3"
  },
  "language_info": {
   "codemirror_mode": {
    "name": "ipython",
    "version": 3
   },
   "file_extension": ".py",
   "mimetype": "text/x-python",
   "name": "python",
   "nbconvert_exporter": "python",
   "pygments_lexer": "ipython3",
   "version": "3.10.11"
  }
 },
 "nbformat": 4,
 "nbformat_minor": 5
}
